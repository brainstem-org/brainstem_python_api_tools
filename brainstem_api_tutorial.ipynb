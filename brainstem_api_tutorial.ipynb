{
 "cells": [
  {
   "cell_type": "code",
   "execution_count": null,
   "id": "c62c0d06",
   "metadata": {},
   "outputs": [],
   "source": [
    "from brainstem_api_tools import BrainstemClient"
   ]
  },
  {
   "cell_type": "code",
   "execution_count": null,
   "id": "9bbab642",
   "metadata": {
    "lines_to_next_cell": 2
   },
   "outputs": [],
   "source": [
    "# 0. Load the client. User email and password will be requested.\n",
    "client = BrainstemClient()"
   ]
  },
  {
   "cell_type": "markdown",
   "id": "92ca41ca",
   "metadata": {},
   "source": [
    "1. Loading sessions."
   ]
  },
  {
   "cell_type": "code",
   "execution_count": null,
   "id": "bba9f9b9",
   "metadata": {},
   "outputs": [],
   "source": [
    "## load_model can be used to load any model:\n",
    "## We just need to pass our settings and the name of the model.\n",
    "output1 = client.load_model('session').json()"
   ]
  },
  {
   "cell_type": "code",
   "execution_count": null,
   "id": "654d1c97",
   "metadata": {},
   "outputs": [],
   "source": [
    "### We can fetch a single session entry from the loaded models.\n",
    "session = output1[\"sessions\"][0]"
   ]
  },
  {
   "cell_type": "code",
   "execution_count": null,
   "id": "578f2c1f",
   "metadata": {},
   "outputs": [],
   "source": [
    "## We can also filter the models by providing a dictionary where\n",
    "## the keys are the fields and the values the possible contents.\n",
    "## In this example, it will just load sessions whose name is \"yeah\".\n",
    "output1 = client.load_model('session', filters={'name': 'yeah'}).json()"
   ]
  },
  {
   "cell_type": "code",
   "execution_count": null,
   "id": "7336405a",
   "metadata": {},
   "outputs": [],
   "source": [
    "## Loaded models can be sorted by different criteria applying to\n",
    "## their fields. In this example, sessions will be sorted in \n",
    "## descending ordering according to their name.\n",
    "output1 = client.load_model('session', sort=['-name']).json()"
   ]
  },
  {
   "cell_type": "code",
   "execution_count": null,
   "id": "c2d640b1",
   "metadata": {},
   "outputs": [],
   "source": [
    "## In some cases models contain relations with other models, and\n",
    "## they can be also loaded with the models if requested. In this\n",
    "## example, all the projects, data acquisition, behaviors and\n",
    "## manipulations related to each session will be included. \n",
    "output1 = client.load_model('session', include=['projects', 'dataacquisition', 'behaviors', 'manipulations']).json()"
   ]
  },
  {
   "cell_type": "code",
   "execution_count": null,
   "id": "05b3927d",
   "metadata": {
    "lines_to_next_cell": 2
   },
   "outputs": [],
   "source": [
    "### The list of related experiment data can be retrieved from the\n",
    "### returned dictionary.\n",
    "dataacquisition = output1[\"sessions\"][0][\"dataacquisition\"]"
   ]
  },
  {
   "cell_type": "code",
   "execution_count": null,
   "id": "55a125e5",
   "metadata": {
    "lines_to_next_cell": 2
   },
   "outputs": [],
   "source": [
    "## All these options can be combined to suit the requirements\n",
    "## of the users. For example, we can get only the session that\n",
    "## contain the word \"Rat\" in their name, sorted in descending\n",
    "## order by their name and including the related projects.\n",
    "output1 = client.load_model('session', filters={'name.icontains': 'Rat'}, sort=[\"-name\"], include=['projects']).json()"
   ]
  },
  {
   "cell_type": "markdown",
   "id": "6c9ad6bd",
   "metadata": {},
   "source": [
    "2. Updating a session"
   ]
  },
  {
   "cell_type": "code",
   "execution_count": null,
   "id": "62f45f66",
   "metadata": {
    "lines_to_next_cell": 2
   },
   "outputs": [],
   "source": [
    "## We can make changes to a model and update it in the database.\n",
    "## In this case, we changed the description of one of the\n",
    "## previously loaded sessions.\n",
    "session = {}\n",
    "session[\"description\"] = 'new description'\n",
    "output2 = client.save_model(\"session\", id=\"0e39c1fd-f413-4142-95f7-f50185e81fa4\", data=session).json()"
   ]
  },
  {
   "cell_type": "markdown",
   "id": "edcd662f",
   "metadata": {},
   "source": [
    "3. Creating a new session"
   ]
  },
  {
   "cell_type": "code",
   "execution_count": null,
   "id": "3362606f",
   "metadata": {},
   "outputs": [],
   "source": [
    "## We can submit a new entry by defining a dictionary with the\n",
    "## required fields.\n",
    "session = {}\n",
    "session[\"name\"] = \"New session\"\n",
    "session[\"projects\"] = ['e7475834-7733-48cf-9e3b-f4f2d2d0305a']\n",
    "session[\"description\"] = 'description'"
   ]
  },
  {
   "cell_type": "code",
   "execution_count": null,
   "id": "0fe6837a",
   "metadata": {
    "lines_to_next_cell": 2
   },
   "outputs": [],
   "source": [
    "## Submitting session\n",
    "output3 = client.save_model(\"session\", data=session).json()"
   ]
  },
  {
   "cell_type": "markdown",
   "id": "4d9c1915",
   "metadata": {},
   "source": [
    "4. Load public projects"
   ]
  },
  {
   "cell_type": "code",
   "execution_count": null,
   "id": "484cf68e",
   "metadata": {},
   "outputs": [],
   "source": [
    "## Request the public data by defining the portal to be public\n",
    "output4 = client.load_model(\"project\", portal=\"public\").json()"
   ]
  }
 ],
 "metadata": {
  "jupytext": {
   "cell_metadata_filter": "-all",
   "main_language": "python",
   "notebook_metadata_filter": "-all"
  }
 },
 "nbformat": 4,
 "nbformat_minor": 5
}
