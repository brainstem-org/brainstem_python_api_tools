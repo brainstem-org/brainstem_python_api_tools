{
 "cells": [
  {
   "cell_type": "code",
   "execution_count": 1,
   "metadata": {},
   "outputs": [],
   "source": [
    "from brainstem_api_tools.brainstem_api_client import BrainstemClient\n",
    "\n",
    "import json"
   ]
  },
  {
   "cell_type": "markdown",
   "metadata": {},
   "source": [
    "# 1. Client Setup and Authentication\n",
    "The Brainstem API client provides easy access to the Brainstem data platform. To get started, initialize the client, which will prompt you for login credentials the first time. After successful authentication, the client will generate a token that can be saved for future use. This allows you to avoid re-entering your credentials each time."
   ]
  },
  {
   "cell_type": "code",
   "execution_count": null,
   "metadata": {},
   "outputs": [],
   "source": [
    "# When initializing client without a token\n",
    "client = BrainstemClient()"
   ]
  },
  {
   "cell_type": "markdown",
   "metadata": {},
   "source": [
    "# 2. Loging in with token\n",
    "For convenience, you can save your authentication token to a configuration file. This allows you to quickly initialize the client in future sessions without entering login details. Simply load the token from your saved file and pass it to the client constructor."
   ]
  },
  {
   "cell_type": "code",
   "execution_count": null,
   "metadata": {},
   "outputs": [],
   "source": [
    "token = None # Input your token here\n",
    "if token:\n",
    "    client = BrainstemClient(token=token)\n",
    "    print(\"Client initialized with saved token\")\n",
    "else:\n",
    "    # This will prompt for username/password if run\n",
    "    print(\"No saved token found. Will need to login.\")\n",
    "    client = BrainstemClient()"
   ]
  },
  {
   "cell_type": "markdown",
   "metadata": {},
   "source": [
    "# 3. Loading Data Models (Sessions Example - Public Data)\n",
    "\n",
    "The Brainstem platform hosts both public and private data. Public data can be accessed without authentication. Use the portal=\"public\" parameter to specifically query public repositories. This is useful for exploring datasets like the Allen Institute's Visual Coding – Neuropixels project."
   ]
  },
  {
   "cell_type": "code",
   "execution_count": 4,
   "metadata": {},
   "outputs": [
    {
     "name": "stdout",
     "output_type": "stream",
     "text": [
      "Found 18 public projects\n",
      "\n",
      "Sample public projects:\n",
      "1. interaction of acetylcholine and oxytocin neuromodulation in the hippocampus\n",
      "   Description: <p>A postulated role of subcortical neuromodulators is to control brain states. Mechanisms by which ...\n",
      "\n",
      "2. Lore's first project\n",
      "   Description: <p>Lorem ipsum dolor sit amet, consectetur adipiscing elit, sed do eiusmod tempor incididunt ut labo...\n",
      "\n",
      "3. Metal microdrive and head cap system for silicon probe recovery in freely moving rodent\n",
      "   Description: <p>High-yield electrophysiological extracellular recording in freely moving rodents provides a uniqu...\n",
      "\n"
     ]
    }
   ],
   "source": [
    "# Load public projects (no authentication needed)\n",
    "public_projects = client.load_model(\"project\", portal=\"public\").json()\n",
    "\n",
    "# Print the number of available public projects\n",
    "print(f\"Found {len(public_projects.get('projects', []))} public projects\")\n",
    "\n",
    "# Display the first few projects\n",
    "print(\"\\nSample public projects:\")\n",
    "for i, project in enumerate(public_projects.get('projects', [])[:3]):\n",
    "    print(f\"{i+1}. {project.get('name', 'Unnamed')}\")\n",
    "    print(f\"   Description: {project.get('description', 'No description')[:100]}...\")\n",
    "    print(\"\")\n",
    "\n"
   ]
  },
  {
   "cell_type": "code",
   "execution_count": null,
   "metadata": {},
   "outputs": [],
   "source": [
    "# To load private projects (requires authentication):\n",
    "\"\"\"\n",
    "# Load your private projects (requires valid token)\n",
    "private_projects = client.load_model(\"project\").json() # default is private\n",
    "\n",
    "# Print the number of your private projects\n",
    "print(f\"Found {len(private_projects.get('projects', []))} private projects\")\n",
    "\n",
    "# Display your private projects\n",
    "print(\"\\nYour private projects:\")\n",
    "for i, project in enumerate(private_projects.get('projects', [])[:3]):\n",
    "    print(f\"{i+1}. {project.get('name', 'Unnamed')}\")\n",
    "    print(f\"   Created by: {project.get('principal_investigator', 'Unknown')}\")\n",
    "\"\"\""
   ]
  },
  {
   "cell_type": "markdown",
   "metadata": {},
   "source": [
    "# 4. Filtering\n",
    "\n",
    "The API supports powerful filtering capabilities to help you find specific records. You can filter by exact matches, partial text matches (case-sensitive or insensitive), and various other criteria. Multiple filters can be combined to narrow your search. Common filter modifiers include .icontains for case-insensitive text search and .iexact for exact matching.\n",
    "\n",
    "### Filter Modifiers\n",
    "\n",
    "You can use the following filter modifiers to refine your search:\n",
    "\n",
    "- `attribute.contains`: Case-sensitive partial match\n",
    "- `attribute.icontains`: Case-insensitive partial match\n",
    "- `attribute.iexact`: Case-insensitive exact match\n",
    "- `attribute.startswith`: Case-sensitive prefix match\n",
    "- `attribute.endswith`: Case-sensitive suffix match\n",
    "- `attribute.istartswith`: Case-insensitive prefix match\n",
    "- `attribute.iendswith`: Case-insensitive suffix match"
   ]
  },
  {
   "cell_type": "code",
   "execution_count": 5,
   "metadata": {},
   "outputs": [
    {
     "name": "stdout",
     "output_type": "stream",
     "text": [
      "Found 1 projects matching 'Allen'\n",
      "Found 1 projects matching all criteria\n",
      "\n",
      "Response type: <class 'dict'>\n",
      "Response contains 'projects' key with data\n",
      "The id of project is df3c7a20-c03e-48fc-a65d-613cdf1deff9 and the name is Allen Institute: Visual Coding – Neuropixels\n"
     ]
    }
   ],
   "source": [
    "# Basic filtering example\n",
    "filtered_projects = client.load_model(\n",
    "    \"project\",\n",
    "    portal=\"public\",\n",
    "    filters={'name.icontains': 'Allen'}  # Case-insensitive contains\n",
    ").json()\n",
    "\n",
    "print(f\"Found {len(filtered_projects.get('projects', []))} projects matching 'Allen'\")\n",
    "\n",
    "# Multiple filters with AND logic\n",
    "multi_filter = client.load_model(\n",
    "    \"project\",\n",
    "    portal=\"public\",\n",
    "    filters={\n",
    "        'name.icontains': 'institute',\n",
    "        'name.iendswith': 'neuropixels'  # Fixed typo in operator name\n",
    "    }\n",
    ").json()\n",
    "\n",
    "if isinstance(multi_filter, dict):\n",
    "    count = len(multi_filter.get('projects', []))\n",
    "else:\n",
    "    count = 0\n",
    "\n",
    "print(f\"Found {count} projects matching all criteria\")\n",
    "\n",
    "print(\"\\nResponse type:\", type(multi_filter))\n",
    "if isinstance(multi_filter, dict) and 'projects' in multi_filter:\n",
    "    print(\"Response contains 'projects' key with data\")\n",
    "    print(f\"The id of project is {multi_filter['projects'][0]['id']} and the name is {multi_filter['projects'][0]['name']}\")"
   ]
  },
  {
   "cell_type": "markdown",
   "metadata": {},
   "source": [
    "# 5. Basic Data Retrieval "
   ]
  },
  {
   "cell_type": "code",
   "execution_count": 6,
   "metadata": {},
   "outputs": [
    {
     "name": "stdout",
     "output_type": "stream",
     "text": [
      "{'id': 'df3c7a20-c03e-48fc-a65d-613cdf1deff9', 'name': 'Allen Institute: Visual Coding – Neuropixels', 'description': '<p>The Visual Coding &ndash; Neuropixels project uses high-density extracellular electrophysiology (<strong>Ecephys</strong>) probes to record spikes from a wide variety of regions in the mouse brain. Our experiments are designed to study the activity of the visual cortex and thalamus in the context of passive visual stimulation, but these data can be used to address a wide variety of topics. Allen Brain Observatory Neuropixels dataset; &copy;2019 Allen Institute for Brain Science <a href=\"https://allensdk.readthedocs.io/en/latest/visual_coding_neuropixels.html\">https://allensdk.readthedocs.io/en/latest/visual_coding_neuropixels.html</a></p>', 'sessions': ['6a9c60e9-9a34-4da7-94bc-5bc9da15256f', '017b9289-26f6-4c28-be84-aee554125cd0', '8bab81b4-c37a-445a-b58c-08a19da1479a', '4454e33a-fe89-4745-9e57-9ff5fe561211', 'a452cd24-4b1a-472d-8790-286653e9932f', '857b4729-86ff-4bb1-a439-ea8b4de0207f', '2b2857e5-efd5-40ac-8b09-e994f323e6b4', '24bc997f-9c0f-48a6-9208-b92afaf41070', 'e08859e9-e9d2-456b-b575-312fed608db2', '9fe8d7ab-89c8-4342-96fa-28fc6ea42a1f', '7b2879b2-c84f-4b8b-ac19-84530e4c6937', '6312934d-4410-4b98-a0ab-f2bbdb213772', 'afc9bb52-1b18-4f1e-9907-8163abc3a35e', '6ee69e33-53d1-4250-a31b-988874bd538b', 'af9df978-f79c-4c08-a7a0-d8f47f1356e7', '522bb59f-33a3-46ee-9a27-18b07671dd54', '59eb87c4-eab7-4460-93af-be3859bdb7da', '2c4c4ab0-33c3-430b-9bc9-9644cc38e0d6', 'a3c400ba-7dfd-4a6d-8187-bd2b11f9f775', '2cde90e2-ed9c-43b0-8913-f4abbeacb3e9', 'ecebee2a-9134-42f4-9df2-703703bddd47', '91cc71cc-d049-4b07-840b-840cd250945d', '78d91009-8027-46fb-a0be-03ffb3e0eda1', 'a640c4af-8afb-4c90-a506-94538b31621e', '95463ffb-7b6b-45fa-9d18-408de7c12173', '011025d5-37f2-4f81-ac50-53a10934e55e', 'd230e6f0-35e8-4428-8ec1-a651ac766feb', '5867209b-c483-4a08-9135-d6b6aadf075e', '198f8063-2cd0-46a7-bbea-6633a96f01d8', 'efc517bc-3376-4c2c-8ae9-a3d7fc947144', '3ef8276d-431d-415d-ab65-ef4a3438dd94', '02b0c98f-2a19-48d2-9d53-d786afc3693f', 'e227e74a-4491-420e-925b-0520a3aabcd8', '03baec8f-c8c1-4f70-8c08-d31f72a0922a', '2aeea5e2-6b7e-405f-accb-06775e3f2381', 'c0681602-a36e-4879-8335-3302ffb28ffd', 'f729c943-0d25-47b5-b458-ce6861c7c2fc', '95c7f858-55dd-42dc-8136-a9dcb2ed0d5d', 'bf663b28-9207-4529-8ba1-c44c4166ea67', 'df4edea0-92bc-414a-8133-8ed73e474e21', '071a8ba1-f8e5-4142-a5b4-4848cdec0642', 'b3a4e592-22d1-4a45-80c6-cf7d71c7d6c0', '6e4df6c3-cecc-4db2-a1a3-0f47d195f432', '8d25da3b-e50b-4df4-a524-d3d911e39eed', '044e0b1e-f6b1-4b33-b04d-01e1a98e4405', 'dfb85cae-6335-45c2-9c0e-79eb4907e25e', 'd8ee74dd-0ccc-4d42-89fd-58a4fc231380', 'cb21c91c-db2a-4d54-8d7e-14f9dc6813f5', 'f4be01a2-b767-4cf6-8018-570e09539b2a', '4afd3205-9e2f-4697-8bcc-9a4d2232240f', '3a0babfa-41d4-49e3-bf3a-3c268b1cfc13', '3898e6fa-6b9f-4c45-a8c9-1cb6f227fedd', '2b3f16e9-33f1-4766-88bd-7d23ed2b2861', '40dc0f2f-6e42-4258-b0be-c14b3d535426', '7ccbd85a-90dd-43ee-8683-3437d1873679', '38b8bd8a-42fc-4784-a0a0-d8a0c1b3ae7f', 'f254bdf5-791c-4a0c-8d3b-8b3f4ebcccfb', '366fc12d-b7a2-46ad-8616-900204b092d5'], 'subjects': ['5c786545-ac38-4400-8aac-ef6c60632c91', 'c3e9d58e-501f-4654-b8a4-b3c3be9bbc68', '72c39529-e603-47d6-a5e6-8e71d08f21f1', '4d9849b4-54d9-4044-b10c-9fc2a578cf48', 'e7cbf83a-955a-42e9-ac97-aae99ea5f1e6', '6d350d7e-7fed-47cf-b9cc-e1dd131a86db', 'dc546cb5-e8bf-4886-8cd7-b80baa2fd784', '2db5b7a2-d999-432f-8b87-60d5e70703e3', '7f3abea7-4ffc-41cb-80fa-c83e7d1d2576', '06da91b0-1272-42c0-ac96-2306f8d8d3f3', '62a44cc4-a9d2-44db-9a4e-ec85472fccce', '0e367a33-4349-4be2-8e10-4dec8c774aff', 'e948e72f-1f6e-4aca-b7fe-2276bf7f5757', 'e88691f1-5fc2-4ad0-98c2-2fb3668e3543', 'b0d6abab-ab6c-42c6-8961-46b7c8cafc75', '9cb374be-a6c8-4e38-bf58-59450c27ae5b', 'bad3cde0-1015-4ad6-b202-c0b53e96544b', '8b46b557-dbff-42a0-b1b2-e06795be656a', '8b24e4ce-0f92-4d3a-abf5-e67fc3c1e823', '5724b4cd-27a0-443e-9518-9e2ecc467746', '24f4d844-9835-4a30-8446-e4451247d5c3', '247beab4-b54a-4f9a-8646-2659ce1e606a', '412d86b1-d628-4014-a32f-220ebd3ca0ca', 'ae52cad6-0640-4c88-b92c-19304039370f', 'd3d9e26c-7535-4678-a18c-13b05ad0a38b', '2e58fce9-546f-4594-8cdd-a43dd015fbbe', 'c31258d8-747f-4ff8-9580-d01f74129256', 'df1a8894-018c-45ff-9e31-0e09138e54b2', '82d351fe-91fa-47f5-9ee4-4baa8f50ce8b', '231b0d07-2720-4d1a-b9dc-57cea3c1947f', 'c1f4f28a-0305-4cd9-82d4-4d0577332369', '2a23fe11-7578-4717-9581-ab08c5637d39', 'ec726b09-b385-450a-9929-d5c7e3dfabea', '80948357-c8f6-4458-9610-af1284c9a683', 'b787c935-c978-4a03-8467-ca139add9f65', '23031c50-9abe-48a6-906f-dfbf21b73f8a', 'c7b4458e-7a25-49b1-91c9-8d6f4959afe9', 'a7455a4f-8682-4885-ab93-0c8203c72ea6', '457a8c04-d51f-4559-a2db-6f3d054d813b', 'dc1ed083-cd2b-4f3b-84a9-6c9343fca5e3', 'b9552325-f4c0-4eae-b002-158511d86ab1', 'ef29ca62-7702-4606-8cb9-78888d656d1d', '3c8fc915-09a9-4e7e-a673-b9c21f04ccd2', '85a2953e-0a69-46ca-b28f-ed995e73953f', 'c98211c3-e977-465f-ba98-875da12939ec', 'c55bcca4-316b-4562-8d0c-ccebee0b534c', '26f5152a-d476-4f6f-ba77-4716ddafc44a', '0b7d450a-b5ec-463f-8e11-3f6deabd0126', 'e02dc1ea-3594-463d-af4f-998d5518fcbc', '7d50b5f2-2a89-49a7-9659-6c5b8ed22b74', 'f61c79a1-8c54-4d48-baf4-c38961482c3c', '1a7b9b08-eb53-4f8b-a1df-69cfd490e4de', '2733ecc6-d810-4a34-9bbf-450a4164675e', '81577690-a361-43a3-bc63-0f8c2115880e', 'beb0ad6c-ccb8-461f-bf29-7ed01b185629', '8cd73b74-134b-43cb-b7ad-13a31df1525f', '4b2ff049-338b-4e8a-a087-94404679c01a', 'b36a7385-d935-4df6-b979-2015eeccb9cd'], 'publications': [], 'extra_fields': [], 'is_public': True, 'collections': [], 'cohorts': [], 'tags': [], 'users': {'petersen.peter@gmail.com': {'can_change': True, 'is_manager': True, 'is_owner': True}}, 'groups': {'Buzsaki Lab - NYU': {'can_change': False, 'is_manager': False, 'is_owner': False}}, 'links': {'sessions': 'sessions/', 'subjects': 'subjects/'}}\n"
     ]
    }
   ],
   "source": [
    "allen_projects = client.load_model(\n",
    "    \"project\", \n",
    "    portal=\"public\", \n",
    "    filters={'name.iexact': 'Allen Institute: Visual Coding – Neuropixels'}\n",
    ").json()\n",
    "print(allen_projects['projects'][0])"
   ]
  },
  {
   "cell_type": "code",
   "execution_count": 7,
   "metadata": {},
   "outputs": [
    {
     "name": "stdout",
     "output_type": "stream",
     "text": [
      "Project name: Allen Institute: Visual Coding – Neuropixels\n",
      "Description: <p>The Visual Coding &ndash; Neuropixels project uses high-density extracellular electrophysiology (<strong>Ecephys</strong>) probes to record spikes from a wide variety of regions in the mouse brain....\n",
      "\n",
      "This project has 58 subjects\n",
      "This project has 58 sessions\n",
      "\n",
      "Example session details:\n",
      "ID: 6a9c60e9-9a34-4da7-94bc-5bc9da15256f\n",
      "Name: session_798911424\n"
     ]
    }
   ],
   "source": [
    "# Find the Allen Institute: Visual Coding – Neuropixels project\n",
    "allen_projects = client.load_model(\n",
    "    \"project\", \n",
    "    portal=\"public\", \n",
    "    filters={'name.iexact': 'Allen Institute: Visual Coding – Neuropixels'}\n",
    ").json()\n",
    "\n",
    "project_id = allen_projects['projects'][0]['id']\n",
    "\n",
    "# Get basic project information without including sessions\n",
    "project_details = client.load_model(\n",
    "    \"project\",\n",
    "    portal=\"public\",\n",
    "    id=project_id\n",
    ").json()\n",
    "\n",
    "# Access project information\n",
    "project = project_details['project']\n",
    "print(f\"Project name: {project['name']}\")\n",
    "print(f\"Description: {project['description'][:200]}...\")\n",
    "\n",
    "# Get subjects related to this project\n",
    "subjects = client.load_model(\n",
    "    \"subject\", \n",
    "    portal=\"public\",\n",
    "    filters={'projects': project_id}\n",
    ").json()\n",
    "\n",
    "print(f\"\\nThis project has {len(subjects['subjects'])} subjects\")\n",
    "\n",
    "# Access the sessions included with the project - sessions should be available now\n",
    "if 'sessions' in project:\n",
    "    session_ids = project['sessions']\n",
    "    print(f\"This project has {len(session_ids)} sessions\")\n",
    "    \n",
    "    # Get details for the first session as an example\n",
    "    if session_ids:\n",
    "        first_session_id = session_ids[0]\n",
    "        session_details = client.load_model(\n",
    "            \"session\",\n",
    "            portal=\"public\",\n",
    "            id=first_session_id\n",
    "        ).json()\n",
    "        \n",
    "        # Print session details\n",
    "        if 'session' in session_details:\n",
    "            session = session_details['session']\n",
    "            print(f\"\\nExample session details:\")\n",
    "            print(f\"ID: {first_session_id}\")\n",
    "            print(f\"Name: {session['name']}\")\n",
    "else:\n",
    "    print(\"No sessions found in project data\")"
   ]
  },
  {
   "cell_type": "markdown",
   "metadata": {},
   "source": [
    "# 6. Including Related Models\n",
    "\n",
    "Brainstem's data models have relationships between them (projects contain sessions, sessions involve subjects, etc.). The include parameter lets you fetch related models in a single request, reducing the number of API calls needed. For example, you can retrieve a project along with all its sessions and subjects in one operation"
   ]
  },
  {
   "cell_type": "code",
   "execution_count": 8,
   "metadata": {},
   "outputs": [
    {
     "name": "stdout",
     "output_type": "stream",
     "text": [
      "Project name: Allen Institute: Visual Coding – Neuropixels\n",
      "Description: <p>The Visual Coding &ndash; Neuropixels project uses high-density extracellular electrophysiology (...\n",
      "Public: True\n",
      "\n",
      "This project has 58 sessions\n",
      "This project has 58 subjects\n",
      "\n",
      "First 3 subjects in the project:\n",
      "1. Subject ID: 5c786545-ac38-4400-8aac-ef6c60632c91\n",
      "2. Subject ID: c3e9d58e-501f-4654-b8a4-b3c3be9bbc68\n",
      "3. Subject ID: 72c39529-e603-47d6-a5e6-8e71d08f21f1\n",
      "\n",
      "First 3 sessions in the project:\n",
      "1. Session ID: 6a9c60e9-9a34-4da7-94bc-5bc9da15256f\n",
      "2. Session ID: 017b9289-26f6-4c28-be84-aee554125cd0\n",
      "3. Session ID: 8bab81b4-c37a-445a-b58c-08a19da1479a\n",
      "\n",
      "Session details:\n",
      "Name: session_798911424\n",
      "Description: <p>brain_observatory_1.1</p>\n",
      "\n",
      "This session has 1 data acquisition method(s) (included in response)\n",
      "\n",
      "Data acquisition IDs from session include:\n",
      "1. 65d48097-cd83-4dfb-a8a1-b8f150ba85c7\n"
     ]
    }
   ],
   "source": [
    "# Find the Allen Institute: Visual Coding – Neuropixels project\n",
    "allen_projects = client.load_model(\n",
    "    \"project\", \n",
    "    portal=\"public\", \n",
    "    filters={'name.iexact': 'Allen Institute: Visual Coding – Neuropixels'}\n",
    ").json()\n",
    "\n",
    "# Get project ID\n",
    "project_id = allen_projects['projects'][0]['id']\n",
    "\n",
    "# Get detailed project information with sessions and subjects included\n",
    "project_with_data = client.load_model(\n",
    "    \"project\",\n",
    "    portal=\"public\",\n",
    "    id=project_id,\n",
    "    include=[\"sessions\", \"subjects\"]  # Include both sessions and subjects\n",
    ").json()\n",
    "\n",
    "# Access project information\n",
    "project = project_with_data['project']\n",
    "print(f\"Project name: {project['name']}\")\n",
    "print(f\"Description: {project['description'][:100]}...\")\n",
    "print(f\"Public: {project['is_public']}\")\n",
    "\n",
    "# Print session and subject counts. We have this data from a single API call\n",
    "print(f\"\\nThis project has {len(project['sessions'])} sessions\")\n",
    "print(f\"This project has {len(project['subjects'])} subjects\")\n",
    "\n",
    "# List first 3 subjects directly from the include\n",
    "print(\"\\nFirst 3 subjects in the project:\")\n",
    "for i, subject_id in enumerate(project['subjects'][:3]):\n",
    "    print(f\"{i+1}. Subject ID: {subject_id}\")\n",
    "\n",
    "# List first 3 sessions directly from the include\n",
    "print(\"\\nFirst 3 sessions in the project:\")\n",
    "for i, session_id in enumerate(project['sessions'][:3]):\n",
    "    print(f\"{i+1}. Session ID: {session_id}\")\n",
    "\n",
    "# Get details for a specific session with included dataacquisition\n",
    "first_session_id = project['sessions'][0]\n",
    "session_with_data = client.load_model(\n",
    "    \"session\",\n",
    "    portal=\"public\",\n",
    "    id=first_session_id,\n",
    "    include=[\"dataacquisition\"]  # Include data acquisition methods\n",
    ").json()\n",
    "\n",
    "# Access the session data\n",
    "session = session_with_data['session']\n",
    "print(f\"\\nSession details:\")\n",
    "print(f\"Name: {session['name']}\")\n",
    "print(f\"Description: {session['description']}\")\n",
    "\n",
    "# Now actually use the included dataacquisition data\n",
    "if 'dataacquisition' in session:\n",
    "    data_acq_ids = session['dataacquisition']\n",
    "    print(f\"\\nThis session has {len(data_acq_ids)} data acquisition method(s) (included in response)\")\n",
    "    \n",
    "    # Demonstrate using the included dataacquisition IDs\n",
    "    if data_acq_ids:\n",
    "        print(\"\\nData acquisition IDs from session include:\")\n",
    "        for i, acq_id in enumerate(data_acq_ids):\n",
    "            print(f\"{i+1}. {acq_id}\")"
   ]
  },
  {
   "cell_type": "markdown",
   "metadata": {},
   "source": [
    "# 7. Sorting\n",
    "\n",
    "You can control the order of returned results using the sort parameter. Sort by any field in ascending order (e.g., alphabetically by name) or use a minus sign prefix for descending order."
   ]
  },
  {
   "cell_type": "code",
   "execution_count": 9,
   "metadata": {},
   "outputs": [
    {
     "name": "stdout",
     "output_type": "stream",
     "text": [
      "\n",
      "Alphabetically sorted projects:\n",
      "1. Allen Institute: Visual Coding – Neuropixels\n",
      "2. CRCNS Frontal cortex: fcx-1\n",
      "3. CRCNS Hippocampus: hc-1\n",
      "\n",
      "Reverse alphabetically sorted projects:\n",
      "1. Theta rhythm perturbation by focal cooling of the septal pacemaker in awake rats\n",
      "2. Physiological Properties and Behavioral Correlates of Hippocampal Granule Cells and Mossy Cells\n",
      "3. Nick Steinmetz Neuropixel data\n"
     ]
    }
   ],
   "source": [
    "# Sort projects alphabetically by name\n",
    "alpha_projects = client.load_model(\n",
    "    \"project\",\n",
    "    portal=\"public\",\n",
    "    sort=['name']  # Ascending alphabetical order\n",
    ").json()\n",
    "\n",
    "print(\"\\nAlphabetically sorted projects:\")\n",
    "for i, project in enumerate(alpha_projects.get('projects', [])[:3]):\n",
    "    print(f\"{i+1}. {project.get('name')}\")\n",
    "\n",
    "# Sort projects reverse-alphabetically by name\n",
    "reverse_alpha = client.load_model(\n",
    "    \"project\",\n",
    "    portal=\"public\",\n",
    "    sort=['-name']  # Descending alphabetical order\n",
    ").json()\n",
    "\n",
    "print(\"\\nReverse alphabetically sorted projects:\")\n",
    "for i, project in enumerate(reverse_alpha.get('projects', [])[:3]):\n",
    "    print(f\"{i+1}. {project.get('name')}\")"
   ]
  },
  {
   "cell_type": "markdown",
   "metadata": {},
   "source": [
    "# 8. Updating data\n",
    "The API supports creating new records and updating existing ones. When creating a record, provide the required fields for that model type. For updates, fetch the existing record, modify its attributes, and save it back. Both operations require appropriate permissions."
   ]
  },
  {
   "cell_type": "code",
   "execution_count": null,
   "metadata": {},
   "outputs": [],
   "source": [
    "# Example of updating a session (use your own private data)\n",
    "# Note: This is just syntax demonstration and won't execute on public data\n",
    "token = None # Input your token here\n",
    "if token:\n",
    "    client = BrainstemClient(token=token)\n",
    "    print(\"Client initialized with saved token\")\n",
    "else:\n",
    "    # This will prompt for username/password if run\n",
    "    print(\"No saved token found. Will need to login.\")\n",
    "    client = BrainstemClient()\n",
    "\"\"\"\n",
    "# First load a session you have permission to modify\n",
    "filtered_session = client.load_model('session', filters={'name.iexact': 'your session'}).json()\n",
    "\n",
    "# Your existing code works without using a 'session' key\n",
    "filtered_session['description'] = 'This is a test description, showing how to update a session'\n",
    "\n",
    "# Pass the whole filtered_session object to save_model\n",
    "updated_session = client.save_model(\n",
    "    'session', \n",
    "    id=filtered_session['sessions'][0]['id'], \n",
    "    data=filtered_session\n",
    ").json()\n",
    "\n",
    "print(\"Session updated successfully\")\n",
    "\"\"\"\n",
    "\n",
    "# Creating a new subject - SYNTAX DEMONSTRATION ONLY\n",
    "\"\"\"\n",
    "# Create a new subject\n",
    "new_subject_data = {\n",
    "    'name': 'Test Subject 001',\n",
    "    'species': 'mouse',\n",
    "    'sex': 'M',\n",
    "    'projects': ['your-project-id']  # Project this subject belongs to\n",
    "}\n",
    "\n",
    "# Save the new subject\n",
    "new_subject = client.save_model(\n",
    "    'subject',\n",
    "    data=new_subject_data\n",
    ").json()\n",
    "\n",
    "print(f\"New subject created with ID: {new_subject['subject']['id']}\")\n",
    "\"\"\"\n",
    "\n",
    "print(\"To use them, replace placeholder IDs with your own private data IDs.\")\n",
    "print(\"Only run these commands on data you have permission to modify.\")"
   ]
  },
  {
   "cell_type": "markdown",
   "metadata": {},
   "source": [
    "# 9. Deleting data\n",
    "You can remove records from the database using their IDs. Deletion is permanent, so use this operation with caution. The API will return a success status code (204) when deletion is successful. Like other write operations, deletion requires appropriate permissions."
   ]
  },
  {
   "cell_type": "code",
   "execution_count": null,
   "metadata": {},
   "outputs": [],
   "source": [
    "token = None # Input your token here.\n",
    "if token:\n",
    "    client = BrainstemClient(token=token)\n",
    "    print(\"Client initialized with saved token\")\n",
    "else:\n",
    "    # This will prompt for username/password if run\n",
    "    print(\"No saved token found. Will need to login.\")\n",
    "    client = BrainstemClient()\n",
    "\n",
    "# Example of deleting a session (demonstration only)\n",
    "\"\"\"\n",
    "# First create a test session that we can safely delete\n",
    "new_session_data = {\n",
    "    'name': 'Temporary Test Session',\n",
    "    'description': 'This session will be deleted',\n",
    "    'project': 'your-project-id'  # Replace with your own project ID\n",
    "}\n",
    "\n",
    "# Create the session\n",
    "created_session = client.save_model('session', data=new_session_data).json()\n",
    "\n",
    "if 'session' in created_session:\n",
    "    session_id = created_session['session']['id']\n",
    "    print(f\"Created temporary session with ID: {session_id}\")\n",
    "    \n",
    "    # Now delete the session we just created\n",
    "    delete_response = client.delete_model(\"session\", id=session_id)\n",
    "    \n",
    "    # Check if deletion was successful\n",
    "    if delete_response.status_code == 204:  # 204 No Content indicates success\n",
    "        print(\"Session deleted successfully\")\n",
    "    else:\n",
    "        print(f\"Delete failed with status code: {delete_response.status_code}\")\n",
    "\"\"\"\n",
    "\n",
    "print(\"To use it, you would need to have write permissions and valid IDs.\")\n",
    "print(\"Only delete data that you have created and have permission to remove.\")"
   ]
  },
  {
   "cell_type": "code",
   "execution_count": null,
   "metadata": {},
   "outputs": [],
   "source": []
  }
 ],
 "metadata": {
  "kernelspec": {
   "display_name": "Python 3 (ipykernel)",
   "language": "python",
   "name": "python3"
  },
  "language_info": {
   "codemirror_mode": {
    "name": "ipython",
    "version": 3
   },
   "file_extension": ".py",
   "mimetype": "text/x-python",
   "name": "python",
   "nbconvert_exporter": "python",
   "pygments_lexer": "ipython3",
   "version": "3.10.12"
  }
 },
 "nbformat": 4,
 "nbformat_minor": 4
}
