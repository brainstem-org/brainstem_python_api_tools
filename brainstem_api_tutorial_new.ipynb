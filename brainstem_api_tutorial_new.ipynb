{
 "cells": [
  {
   "cell_type": "markdown",
   "metadata": {},
   "source": [
    "# 0. Install the API tools"
   ]
  },
  {
   "cell_type": "code",
   "execution_count": null,
   "metadata": {},
   "outputs": [],
   "source": [
    "!pip install brainstem_python_api_tools"
   ]
  },
  {
   "cell_type": "code",
   "execution_count": null,
   "metadata": {},
   "outputs": [],
   "source": [
    "from brainstem_api_tools import BrainstemClient\n",
    "\n",
    "import json"
   ]
  },
  {
   "cell_type": "markdown",
   "metadata": {},
   "source": [
    "# 1. Client Setup and Authentication\n",
    "The Brainstem API client provides easy access to the Brainstem data platform. To get started, initialize the client, which will prompt you for login credentials the first time. After successful authentication, the client will generate a token that can be saved for future use. This allows you to avoid re-entering your credentials each time."
   ]
  },
  {
   "cell_type": "code",
   "execution_count": null,
   "metadata": {},
   "outputs": [],
   "source": [
    "# When initializing client without a token\n",
    "client = BrainstemClient()"
   ]
  },
  {
   "cell_type": "markdown",
   "metadata": {},
   "source": [
    "# 2. Loging in with token\n",
    "For convenience, you can save your authentication token to a configuration file. This allows you to quickly initialize the client in future sessions without entering login details. Simply load the token from your saved file and pass it to the client constructor."
   ]
  },
  {
   "cell_type": "code",
   "execution_count": null,
   "metadata": {},
   "outputs": [],
   "source": [
    "token = None # Input your token here\n",
    "if token:\n",
    "    client = BrainstemClient(token=token)\n",
    "    print(\"Client initialized with saved token\")\n",
    "else:\n",
    "    # This will prompt for username/password if run\n",
    "    print(\"No saved token found. Will need to login.\")\n",
    "    client = BrainstemClient()"
   ]
  },
  {
   "cell_type": "markdown",
   "metadata": {},
   "source": [
    "# 3. Loading Data Models (Sessions Example - Public Data)\n",
    "\n",
    "The Brainstem platform hosts both public and private data. Public data can be accessed without authentication. Use the portal=\"public\" parameter to specifically query public repositories. This is useful for exploring datasets like the Allen Institute's Visual Coding – Neuropixels project."
   ]
  },
  {
   "cell_type": "code",
   "execution_count": null,
   "metadata": {},
   "outputs": [],
   "source": [
    "# Load public projects (no authentication needed)\n",
    "public_projects = client.load_model(\"project\", portal=\"public\").json()\n",
    "\n",
    "# Print the number of available public projects\n",
    "print(f\"Found {len(public_projects.get('projects', []))} public projects\")\n",
    "\n",
    "# Display the first few projects\n",
    "print(\"\\nSample public projects:\")\n",
    "for i, project in enumerate(public_projects.get('projects', [])[:3]):\n",
    "    print(f\"{i+1}. {project.get('name', 'Unnamed')}\")\n",
    "    print(f\"   Description: {project.get('description', 'No description')[:100]}...\")\n",
    "    print(\"\")\n",
    "\n"
   ]
  },
  {
   "cell_type": "code",
   "execution_count": null,
   "metadata": {},
   "outputs": [],
   "source": [
    "# To load private projects (requires authentication):\n",
    "\"\"\"\n",
    "# Load your private projects (requires valid token)\n",
    "private_projects = client.load_model(\"project\").json() # default is private\n",
    "\n",
    "# Print the number of your private projects\n",
    "print(f\"Found {len(private_projects.get('projects', []))} private projects\")\n",
    "\n",
    "# Display your private projects\n",
    "print(\"\\nYour private projects:\")\n",
    "for i, project in enumerate(private_projects.get('projects', [])[:3]):\n",
    "    print(f\"{i+1}. {project.get('name', 'Unnamed')}\")\n",
    "    print(f\"   Created by: {project.get('principal_investigator', 'Unknown')}\")\n",
    "\"\"\""
   ]
  },
  {
   "cell_type": "markdown",
   "metadata": {},
   "source": [
    "# 4. Filtering\n",
    "\n",
    "The API supports powerful filtering capabilities to help you find specific records. You can filter by exact matches, partial text matches (case-sensitive or insensitive), and various other criteria. Multiple filters can be combined to narrow your search. Common filter modifiers include .icontains for case-insensitive text search and .iexact for exact matching.\n",
    "\n",
    "### Filter Modifiers\n",
    "\n",
    "You can use the following filter modifiers to refine your search:\n",
    "\n",
    "- `attribute.contains`: Case-sensitive partial match\n",
    "- `attribute.icontains`: Case-insensitive partial match\n",
    "- `attribute.iexact`: Case-insensitive exact match\n",
    "- `attribute.startswith`: Case-sensitive prefix match\n",
    "- `attribute.endswith`: Case-sensitive suffix match\n",
    "- `attribute.istartswith`: Case-insensitive prefix match\n",
    "- `attribute.iendswith`: Case-insensitive suffix match"
   ]
  },
  {
   "cell_type": "code",
   "execution_count": null,
   "metadata": {},
   "outputs": [],
   "source": [
    "# Basic filtering example\n",
    "filtered_projects = client.load_model(\n",
    "    \"project\",\n",
    "    portal=\"public\",\n",
    "    filters={'name.icontains': 'Allen'}  # Case-insensitive contains\n",
    ").json()\n",
    "\n",
    "print(f\"Found {len(filtered_projects.get('projects', []))} projects matching 'Allen'\")\n",
    "\n",
    "# Multiple filters with AND logic\n",
    "multi_filter = client.load_model(\n",
    "    \"project\",\n",
    "    portal=\"public\",\n",
    "    filters={\n",
    "        'name.icontains': 'institute',\n",
    "        'name.iendswith': 'neuropixels'  # Fixed typo in operator name\n",
    "    }\n",
    ").json()\n",
    "\n",
    "if isinstance(multi_filter, dict):\n",
    "    count = len(multi_filter.get('projects', []))\n",
    "else:\n",
    "    count = 0\n",
    "\n",
    "print(f\"Found {count} projects matching all criteria\")\n",
    "\n",
    "print(\"\\nResponse type:\", type(multi_filter))\n",
    "if isinstance(multi_filter, dict) and 'projects' in multi_filter:\n",
    "    print(\"Response contains 'projects' key with data\")\n",
    "    print(f\"The id of project is {multi_filter['projects'][0]['id']} and the name is {multi_filter['projects'][0]['name']}\")"
   ]
  },
  {
   "cell_type": "markdown",
   "metadata": {},
   "source": [
    "# 5. Basic Data Retrieval "
   ]
  },
  {
   "cell_type": "code",
   "execution_count": null,
   "metadata": {},
   "outputs": [],
   "source": [
    "allen_projects = client.load_model(\n",
    "    \"project\", \n",
    "    portal=\"public\", \n",
    "    filters={'name.iexact': 'Allen Institute: Visual Coding – Neuropixels'}\n",
    ").json()\n",
    "print(allen_projects['projects'][0])"
   ]
  },
  {
   "cell_type": "code",
   "execution_count": null,
   "metadata": {},
   "outputs": [],
   "source": [
    "# Find the Allen Institute: Visual Coding – Neuropixels project\n",
    "allen_projects = client.load_model(\n",
    "    \"project\", \n",
    "    portal=\"public\", \n",
    "    filters={'name.iexact': 'Allen Institute: Visual Coding – Neuropixels'}\n",
    ").json()\n",
    "\n",
    "project_id = allen_projects['projects'][0]['id']\n",
    "\n",
    "# Get basic project information without including sessions\n",
    "project_details = client.load_model(\n",
    "    \"project\",\n",
    "    portal=\"public\",\n",
    "    id=project_id\n",
    ").json()\n",
    "\n",
    "# Access project information\n",
    "project = project_details['project']\n",
    "print(f\"Project name: {project['name']}\")\n",
    "print(f\"Description: {project['description'][:200]}...\")\n",
    "\n",
    "# Get subjects related to this project\n",
    "subjects = client.load_model(\n",
    "    \"subject\", \n",
    "    portal=\"public\",\n",
    "    filters={'projects': project_id}\n",
    ").json()\n",
    "\n",
    "print(f\"\\nThis project has {len(subjects['subjects'])} subjects\")\n",
    "\n",
    "# Access the sessions included with the project - sessions should be available now\n",
    "if 'sessions' in project:\n",
    "    session_ids = project['sessions']\n",
    "    print(f\"This project has {len(session_ids)} sessions\")\n",
    "    \n",
    "    # Get details for the first session as an example\n",
    "    if session_ids:\n",
    "        first_session_id = session_ids[0]\n",
    "        session_details = client.load_model(\n",
    "            \"session\",\n",
    "            portal=\"public\",\n",
    "            id=first_session_id\n",
    "        ).json()\n",
    "        \n",
    "        # Print session details\n",
    "        if 'session' in session_details:\n",
    "            session = session_details['session']\n",
    "            print(f\"\\nExample session details:\")\n",
    "            print(f\"ID: {first_session_id}\")\n",
    "            print(f\"Name: {session['name']}\")\n",
    "else:\n",
    "    print(\"No sessions found in project data\")"
   ]
  },
  {
   "cell_type": "markdown",
   "metadata": {},
   "source": [
    "# 6. Including Related Models\n",
    "\n",
    "Brainstem's data models have relationships between them (projects contain sessions, sessions involve subjects, etc.). The include parameter lets you fetch related models in a single request, reducing the number of API calls needed. For example, you can retrieve a project along with all its sessions and subjects in one operation"
   ]
  },
  {
   "cell_type": "code",
   "execution_count": null,
   "metadata": {},
   "outputs": [],
   "source": [
    "# Find the Allen Institute: Visual Coding – Neuropixels project\n",
    "allen_projects = client.load_model(\n",
    "    \"project\", \n",
    "    portal=\"public\", \n",
    "    filters={'name.iexact': 'Allen Institute: Visual Coding – Neuropixels'}\n",
    ").json()\n",
    "\n",
    "# Get project ID\n",
    "project_id = allen_projects['projects'][0]['id']\n",
    "\n",
    "# Get detailed project information with sessions and subjects included\n",
    "project_with_data = client.load_model(\n",
    "    \"project\",\n",
    "    portal=\"public\",\n",
    "    id=project_id,\n",
    "    include=[\"sessions\", \"subjects\"]  # Include both sessions and subjects\n",
    ").json()\n",
    "\n",
    "# Access project information\n",
    "project = project_with_data['project']\n",
    "print(f\"Project name: {project['name']}\")\n",
    "print(f\"Description: {project['description'][:100]}...\")\n",
    "print(f\"Public: {project['is_public']}\")\n",
    "\n",
    "# Print session and subject counts. We have this data from a single API call\n",
    "print(f\"\\nThis project has {len(project['sessions'])} sessions\")\n",
    "print(f\"This project has {len(project['subjects'])} subjects\")\n",
    "\n",
    "# List first 3 subjects directly from the include\n",
    "print(\"\\nFirst 3 subjects in the project:\")\n",
    "for i, subject_id in enumerate(project['subjects'][:3]):\n",
    "    print(f\"{i+1}. Subject ID: {subject_id}\")\n",
    "\n",
    "# List first 3 sessions directly from the include\n",
    "print(\"\\nFirst 3 sessions in the project:\")\n",
    "for i, session_id in enumerate(project['sessions'][:3]):\n",
    "    print(f\"{i+1}. Session ID: {session_id}\")\n",
    "\n",
    "# Get details for a specific session with included dataacquisition\n",
    "first_session_id = project['sessions'][0]\n",
    "session_with_data = client.load_model(\n",
    "    \"session\",\n",
    "    portal=\"public\",\n",
    "    id=first_session_id,\n",
    "    include=[\"dataacquisition\"]  # Include data acquisition methods\n",
    ").json()\n",
    "\n",
    "# Access the session data\n",
    "session = session_with_data['session']\n",
    "print(f\"\\nSession details:\")\n",
    "print(f\"Name: {session['name']}\")\n",
    "print(f\"Description: {session['description']}\")\n",
    "\n",
    "# Now actually use the included dataacquisition data\n",
    "if 'dataacquisition' in session:\n",
    "    data_acq_ids = session['dataacquisition']\n",
    "    print(f\"\\nThis session has {len(data_acq_ids)} data acquisition method(s) (included in response)\")\n",
    "    \n",
    "    # Demonstrate using the included dataacquisition IDs\n",
    "    if data_acq_ids:\n",
    "        print(\"\\nData acquisition IDs from session include:\")\n",
    "        for i, acq_id in enumerate(data_acq_ids):\n",
    "            print(f\"{i+1}. {acq_id}\")"
   ]
  },
  {
   "cell_type": "markdown",
   "metadata": {},
   "source": [
    "# 7. Sorting\n",
    "\n",
    "You can control the order of returned results using the sort parameter. Sort by any field in ascending order (e.g., alphabetically by name) or use a minus sign prefix for descending order."
   ]
  },
  {
   "cell_type": "code",
   "execution_count": null,
   "metadata": {},
   "outputs": [],
   "source": [
    "# Sort projects alphabetically by name\n",
    "alpha_projects = client.load_model(\n",
    "    \"project\",\n",
    "    portal=\"public\",\n",
    "    sort=['name']  # Ascending alphabetical order\n",
    ").json()\n",
    "\n",
    "print(\"\\nAlphabetically sorted projects:\")\n",
    "for i, project in enumerate(alpha_projects.get('projects', [])[:3]):\n",
    "    print(f\"{i+1}. {project.get('name')}\")\n",
    "\n",
    "# Sort projects reverse-alphabetically by name\n",
    "reverse_alpha = client.load_model(\n",
    "    \"project\",\n",
    "    portal=\"public\",\n",
    "    sort=['-name']  # Descending alphabetical order\n",
    ").json()\n",
    "\n",
    "print(\"\\nReverse alphabetically sorted projects:\")\n",
    "for i, project in enumerate(reverse_alpha.get('projects', [])[:3]):\n",
    "    print(f\"{i+1}. {project.get('name')}\")"
   ]
  },
  {
   "cell_type": "markdown",
   "metadata": {},
   "source": [
    "# 8. Updating data\n",
    "The API supports creating new records and updating existing ones. When creating a record, provide the required fields for that model type. For updates, fetch the existing record, modify its attributes, and save it back. Both operations require appropriate permissions."
   ]
  },
  {
   "cell_type": "code",
   "execution_count": null,
   "metadata": {},
   "outputs": [],
   "source": [
    "# Example of updating a session (use your own private data)\n",
    "# Note: This is just syntax demonstration and won't execute on public data\n",
    "token = None # Input your token here\n",
    "if token:\n",
    "    client = BrainstemClient(token=token)\n",
    "    print(\"Client initialized with saved token\")\n",
    "else:\n",
    "    # This will prompt for username/password if run\n",
    "    print(\"No saved token found. Will need to login.\")\n",
    "    client = BrainstemClient()\n",
    "\"\"\"\n",
    "# First load a session you have permission to modify\n",
    "filtered_session = client.load_model('session', filters={'name.iexact': 'your session'}).json()\n",
    "\n",
    "# Your existing code works without using a 'session' key\n",
    "filtered_session['description'] = 'This is a test description, showing how to update a session'\n",
    "\n",
    "# Pass the whole filtered_session object to save_model\n",
    "updated_session = client.save_model(\n",
    "    'session', \n",
    "    id=filtered_session['sessions'][0]['id'], \n",
    "    data=filtered_session\n",
    ").json()\n",
    "\n",
    "print(\"Session updated successfully\")\n",
    "\"\"\"\n",
    "\n",
    "# Creating a new subject - SYNTAX DEMONSTRATION ONLY\n",
    "\"\"\"\n",
    "# Create a new subject\n",
    "new_subject_data = {\n",
    "    'name': 'Test Subject 001',\n",
    "    'species': 'mouse',\n",
    "    'sex': 'M',\n",
    "    'projects': ['your-project-id']  # Project this subject belongs to\n",
    "}\n",
    "\n",
    "# Save the new subject\n",
    "new_subject = client.save_model(\n",
    "    'subject',\n",
    "    data=new_subject_data\n",
    ").json()\n",
    "\n",
    "print(f\"New subject created with ID: {new_subject['subject']['id']}\")\n",
    "\"\"\"\n",
    "\n",
    "print(\"To use them, replace placeholder IDs with your own private data IDs.\")\n",
    "print(\"Only run these commands on data you have permission to modify.\")"
   ]
  },
  {
   "cell_type": "markdown",
   "metadata": {},
   "source": [
    "# 9. Deleting data\n",
    "You can remove records from the database using their IDs. Deletion is permanent, so use this operation with caution. The API will return a success status code (204) when deletion is successful. Like other write operations, deletion requires appropriate permissions."
   ]
  },
  {
   "cell_type": "code",
   "execution_count": null,
   "metadata": {},
   "outputs": [],
   "source": [
    "token = None # Input your token here.\n",
    "if token:\n",
    "    client = BrainstemClient(token=token)\n",
    "    print(\"Client initialized with saved token\")\n",
    "else:\n",
    "    # This will prompt for username/password if run\n",
    "    print(\"No saved token found. Will need to login.\")\n",
    "    client = BrainstemClient()\n",
    "\n",
    "# Example of deleting a session (demonstration only)\n",
    "\"\"\"\n",
    "# First create a test session that we can safely delete\n",
    "new_session_data = {\n",
    "    'name': 'Temporary Test Session',\n",
    "    'description': 'This session will be deleted',\n",
    "    'project': 'your-project-id'  # Replace with your own project ID\n",
    "}\n",
    "\n",
    "# Create the session\n",
    "created_session = client.save_model('session', data=new_session_data).json()\n",
    "\n",
    "if 'session' in created_session:\n",
    "    session_id = created_session['session']['id']\n",
    "    print(f\"Created temporary session with ID: {session_id}\")\n",
    "    \n",
    "    # Now delete the session we just created\n",
    "    delete_response = client.delete_model(\"session\", id=session_id)\n",
    "    \n",
    "    # Check if deletion was successful\n",
    "    if delete_response.status_code == 204:  # 204 No Content indicates success\n",
    "        print(\"Session deleted successfully\")\n",
    "    else:\n",
    "        print(f\"Delete failed with status code: {delete_response.status_code}\")\n",
    "\"\"\"\n",
    "\n",
    "print(\"To use it, you would need to have write permissions and valid IDs.\")\n",
    "print(\"Only delete data that you have created and have permission to remove.\")"
   ]
  }
 ],
 "metadata": {
  "kernelspec": {
   "display_name": "Python 3 (ipykernel)",
   "language": "python",
   "name": "python3"
  },
  "language_info": {
   "codemirror_mode": {
    "name": "ipython",
    "version": 3
   },
   "file_extension": ".py",
   "mimetype": "text/x-python",
   "name": "python",
   "nbconvert_exporter": "python",
   "pygments_lexer": "ipython3",
   "version": "3.10.12"
  }
 },
 "nbformat": 4,
 "nbformat_minor": 4
}
